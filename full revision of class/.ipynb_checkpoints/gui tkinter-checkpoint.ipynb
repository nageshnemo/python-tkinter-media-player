{
 "cells": [
  {
   "cell_type": "markdown",
   "metadata": {},
   "source": [
    "# In python we have many predefined libraries for building gui apps\n",
    "\n",
    "## Tkinter\n",
    "## PyQT\n",
    "## WxPython\n"
   ]
  },
  {
   "cell_type": "code",
   "execution_count": 3,
   "metadata": {},
   "outputs": [],
   "source": [
    "import Tkinter\n",
    "tw = Tkinter.Tk()\n",
    "tw.mainloop()\n",
    "\n",
    "\n",
    "# Tk is basiclly a class present in tkinter module and tw is the object we made"
   ]
  },
  {
   "cell_type": "code",
   "execution_count": 6,
   "metadata": {},
   "outputs": [],
   "source": [
    "from Tkinter import *\n",
    "root = Tk()\n",
    "root.mainloop()\n",
    "# we can do by this also\n",
    "\n",
    "# mainloop() is basically a method of class Tk()"
   ]
  },
  {
   "cell_type": "markdown",
   "metadata": {},
   "source": [
    "# To initialise tkinter we have to create object of class Tk which is normally called root widget\n",
    "\n",
    "### this is an ordinary window with a title bar and other decoration provided by our window manager"
   ]
  },
  {
   "cell_type": "markdown",
   "metadata": {},
   "source": [
    "# title of window"
   ]
  },
  {
   "cell_type": "code",
   "execution_count": 7,
   "metadata": {},
   "outputs": [],
   "source": [
    "import Tkinter\n",
    "tw = Tkinter.Tk()\n",
    "tw.title(\"nagesh's gui app\")\n",
    "tw.mainloop()\n"
   ]
  },
  {
   "cell_type": "markdown",
   "metadata": {},
   "source": [
    "# icon of root widget"
   ]
  },
  {
   "cell_type": "code",
   "execution_count": 8,
   "metadata": {},
   "outputs": [
    {
     "data": {
      "text/plain": [
       "'\\n1. create an object of the class photoimage present in the Tinter\\nmodule passing it the image to be used as icon using the keyword \\nargument file\\n\\n2. pass this object as argument to instance method called \\niconphoto() of the class Tk,passing it two arguments \\nwhich are the Tk object itself and phoy\\toimage object\\n'"
      ]
     },
     "execution_count": 8,
     "metadata": {},
     "output_type": "execute_result"
    }
   ],
   "source": [
    "# to change the default icon we ahve to do take 2 steps\n",
    "\n",
    "\"\"\"\n",
    "1. create an object of the class photoimage present in the Tinter\n",
    "module passing it the image to be used as icon using the keyword \n",
    "argument file\n",
    "\n",
    "2. pass this object as argument to instance method called \n",
    "iconphoto() of the class Tk,passing it two arguments \n",
    "which are the Tk object itself and phoy\\toimage object\n",
    "\"\"\""
   ]
  },
  {
   "cell_type": "code",
   "execution_count": 9,
   "metadata": {},
   "outputs": [],
   "source": [
    "# img = Tkinter.Photoimage(file = \"d:/images/\")\n",
    "# image is of gif and png extension \n",
    "# tw.iconphoto(tw,img)"
   ]
  },
  {
   "cell_type": "markdown",
   "metadata": {},
   "source": [
    "# size of root window"
   ]
  },
  {
   "cell_type": "code",
   "execution_count": 10,
   "metadata": {},
   "outputs": [],
   "source": [
    "# to change the size of the root window we have to call the\n",
    "# the instance method geometry of Tk()\n",
    "\n",
    "# this method accepts an argument of stringtype with the format \n",
    "# \"wxh where w is width and h is height"
   ]
  },
  {
   "cell_type": "code",
   "execution_count": 11,
   "metadata": {},
   "outputs": [],
   "source": [
    "import Tkinter\n",
    "tw = Tkinter.Tk()\n",
    "tw.title(\"nagesh gui app\")\n",
    "tw.geometry(\"600x200+400+250\")\n",
    "tw.mainloop()\n"
   ]
  },
  {
   "cell_type": "code",
   "execution_count": 12,
   "metadata": {},
   "outputs": [
    {
     "ename": "SyntaxError",
     "evalue": "invalid syntax (<ipython-input-12-793aa674feff>, line 9)",
     "output_type": "error",
     "traceback": [
      "\u001b[1;36m  File \u001b[1;32m\"<ipython-input-12-793aa674feff>\"\u001b[1;36m, line \u001b[1;32m9\u001b[0m\n\u001b[1;33m    tw.geometry(f\"{width}x{height}+{xco}+{yco}\")\u001b[0m\n\u001b[1;37m                                              ^\u001b[0m\n\u001b[1;31mSyntaxError\u001b[0m\u001b[1;31m:\u001b[0m invalid syntax\n"
     ]
    }
   ],
   "source": [
    "import Tkinter\n",
    "tw = Tkinter.Tk()\n",
    "screenwidth=tw.winfo_screenwidth()\n",
    "screenheight=tw.winfo_screenheight()\n",
    "width=screenwidth//2\n",
    "height=screenheight//2\n",
    "xco=screenwidth//4\n",
    "yco=screenheight//4\n",
    "tw.geometry(f\"{width}x{height}+{xco}+{yco}\")\n",
    "tw.resizable(False,False) \n",
    "tw.mainloop()\n"
   ]
  },
  {
   "cell_type": "code",
   "execution_count": 13,
   "metadata": {},
   "outputs": [
    {
     "data": {
      "text/plain": [
       "'\\ngui widgets\\n\\n1. Label == displays a text or an image\\n2. Button == a simple button used to execute a command or other operation\\n3. Entry  == a single line text field for accepting values from the user\\n4. Checkbutton == displays a no of options as checkboxes the user can select multiple option at a time \\n5. Radiobutton == displays a no of options as radio button the user can select any one at a time\\n6. Listbox = used to provde alist of option to user\\n7. messagebox = used to display message boxes in your applications\\n8. Frame - acontainer widget to organize other widget\\n9. Menu == used to iplement pulldown and popup menus\\n10. Canvas == used to draw shapes such as lines ovals polygons and rectangle in your application\\n11. message == used to display multiline text fields\\n12 spinbox == used to allow the user select an option from a fixed no of val;ues\\n\\n\\n\\n\\n\\n\\n\\n\\n'"
      ]
     },
     "execution_count": 13,
     "metadata": {},
     "output_type": "execute_result"
    }
   ],
   "source": [
    "\"\"\"\n",
    "gui widgets\n",
    "\n",
    "1. Label == displays a text or an image\n",
    "2. Button == a simple button used to execute a command or other operation\n",
    "3. Entry  == a single line text field for accepting values from the user\n",
    "4. Checkbutton == displays a no of options as checkboxes the user can select multiple option at a time \n",
    "5. Radiobutton == displays a no of options as radio button the user can select any one at a time\n",
    "6. Listbox = used to provde alist of option to user\n",
    "7. messagebox = used to display message boxes in your applications\n",
    "8. Frame - acontainer widget to organize other widget\n",
    "9. Menu == used to iplement pulldown and popup menus\n",
    "10. Canvas == used to draw shapes such as lines ovals polygons and rectangle in your application\n",
    "11. message == used to display multiline text fields\n",
    "12 spinbox == used to allow the user select an option from a fixed no of val;ues\n",
    "\n",
    "\n",
    "\n",
    "\n",
    "\n",
    "\n",
    "\n",
    "\n",
    "\"\"\""
   ]
  },
  {
   "cell_type": "markdown",
   "metadata": {},
   "source": [
    "# Label widget\n",
    "## the text displayed by the widget can be updated by the programmer any time"
   ]
  },
  {
   "cell_type": "code",
   "execution_count": 14,
   "metadata": {},
   "outputs": [],
   "source": [
    "# syntax = w = label(master,options)\n",
    "\n",
    "# master = this represents the parent window\n",
    "# options - some extra arguments can be used as key value pairs separated by commas"
   ]
  },
  {
   "cell_type": "code",
   "execution_count": 24,
   "metadata": {},
   "outputs": [
    {
     "name": "stdout",
     "output_type": "stream",
     "text": [
      "<type 'classobj'>\n",
      "<type 'instance'>\n",
      "<type 'classobj'>\n",
      "<type 'instance'>\n"
     ]
    }
   ],
   "source": [
    "import Tkinter\n",
    "root = Tkinter.Tk()\n",
    "lbl = Tkinter.Label(root,text = \"welcome to python nagesh singh rajput\")\n",
    "lbl.pack() # this line is important because until we call the pack method on the Label object it wont appear on the window\n",
    "root.mainloop()\n",
    "print type(Tk)\n",
    "print type(root)\n",
    "print type(Label)\n",
    "print type(lbl)\n",
    "\n",
    "#Tk is class and root is the instance of class Tk\n",
    "# Label is also a class and lbl is the instance of that class Label"
   ]
  },
  {
   "cell_type": "code",
   "execution_count": 25,
   "metadata": {},
   "outputs": [
    {
     "name": "stdout",
     "output_type": "stream",
     "text": [
      "<type 'instance'>\n",
      "<type 'classobj'>\n"
     ]
    }
   ],
   "source": [
    "class c:\n",
    "    pass\n",
    "\n",
    "hey = c()\n",
    "print type(hey)\n",
    "print type(c)"
   ]
  },
  {
   "cell_type": "code",
   "execution_count": null,
   "metadata": {},
   "outputs": [],
   "source": []
  }
 ],
 "metadata": {
  "kernelspec": {
   "display_name": "Python 2",
   "language": "python",
   "name": "python2"
  },
  "language_info": {
   "codemirror_mode": {
    "name": "ipython",
    "version": 2
   },
   "file_extension": ".py",
   "mimetype": "text/x-python",
   "name": "python",
   "nbconvert_exporter": "python",
   "pygments_lexer": "ipython2",
   "version": "2.7.15"
  }
 },
 "nbformat": 4,
 "nbformat_minor": 2
}
